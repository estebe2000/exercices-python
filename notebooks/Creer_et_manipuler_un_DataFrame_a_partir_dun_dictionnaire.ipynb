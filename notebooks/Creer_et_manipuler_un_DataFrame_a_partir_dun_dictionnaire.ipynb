{
  "cells": [
    {
      "cell_type": "markdown",
      "metadata": {},
      "source": [
        "# Exercice: Manipulation de DataFrame avec Pandas"
      ]
    },
    {
      "cell_type": "markdown",
      "metadata": {},
      "source": [
        "\n\n## Description\n\n\nDans cet exercice, vous allez créer et manipuler un DataFrame à partir d'un dictionnaire en utilisant la bibliothèque Pandas. Vous devrez effectuer plusieurs opérations sur le DataFrame pour répondre aux exigences de l'exercice.\n\n\n## Exemples d'entrées/sorties\n\n\nVoici un exemple de dictionnaire que vous pourriez utiliser pour créer le DataFrame:\n\n\n```python\n\ndata = {\n    'Nom': ['Alice', 'Bob', 'Charlie'],\n    'Âge': [25, 30, 35],\n    'Ville': ['Paris', 'Lyon', 'Marseille']\n}\n\n```\nAprès avoir créé le DataFrame, vous devrez effectuer des opérations pour obtenir des résultats spécifiques.\n\n\n## Contraintes\n\n\n\n* Utilisez la bibliothèque Pandas pour créer et manipuler le DataFrame.\n\n* Assurez-vous que votre code est bien commenté et lisible.\n\n* Respectez les consignes données dans le squelette de code.\n\n\n## Squelette de code et tests\n\n\n```python\n\nimport pandas as pd\n\n# Données initiales\ndata = {\n    'Nom': ['Alice', 'Bob', 'Charlie'],\n    'Âge': [25, 30, 35],\n    'Ville': ['Paris', 'Lyon', 'Marseille']\n}\n\n# À COMPLÉTER: Créer un DataFrame à partir du dictionnaire 'data'\ndf = # VOTRE CODE ICI\n\n# À COMPLÉTER: Ajouter une nouvelle colonne 'Pays' avec la valeur 'France' pour tous les enregistrements\n# VOTRE CODE ICI\n\n# À COMPLÉTER: Filtrer les lignes où l'âge est supérieur à 28\ndf_filtre = # VOTRE CODE ICI\n\n# À COMPLÉTER: Calculer la moyenne des âges dans le DataFrame filtré\nmoyenne_age_filtre = # VOTRE CODE ICI\n\n# Tests - NE PAS SÉPARER DU CODE CI-DESSUS\ntry:\n    assert df.shape == (3, 4)\n    print(\"✅ Test 1 réussi: Le DataFrame a 3 lignes et 4 colonnes\")\nexcept AssertionError:\n    print(\"❌ Test 1 échoué: Le DataFrame devrait avoir 3 lignes et 4 colonnes\")\n\ntry:\n    assert moyenne_age_filtre == 32.5\n    print(\"✅ Test 2 réussi: La moyenne des âges filtrés est 32.5\")\nexcept AssertionError:\n    print(\"❌ Test 2 échoué: La moyenne des âges filtrés devrait être 32.5\")\n\n```"
      ]
    },
    {
      "cell_type": "code",
      "metadata": {},
      "source": [
        ""
      ],
      "execution_count": null,
      "outputs": []
    },
    {
      "cell_type": "code",
      "metadata": {},
      "source": [
        ""
      ],
      "execution_count": null,
      "outputs": []
    }
  ],
  "metadata": {
    "kernelspec": {
      "display_name": "Python 3",
      "language": "python",
      "name": "python3"
    },
    "language_info": {
      "codemirror_mode": {
        "name": "ipython",
        "version": 3
      },
      "file_extension": ".py",
      "mimetype": "text/x-python",
      "name": "python",
      "nbconvert_exporter": "python",
      "pygments_lexer": "ipython3",
      "version": "3.8.0"
    }
  },
  "nbformat": 4,
  "nbformat_minor": 5
}