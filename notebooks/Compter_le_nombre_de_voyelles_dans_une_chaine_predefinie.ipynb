{
  "cells": [
    {
      "cell_type": "markdown",
      "metadata": {},
      "source": [
        "# Exercice: Compter les voyelles dans une chaîne de caractères"
      ]
    },
    {
      "cell_type": "markdown",
      "metadata": {},
      "source": [
        "\n\n## Description du problème\n\n\nDans cet exercice, vous allez écrire un programme qui compte le nombre de voyelles (a, e, i, o, u) dans une chaîne de caractères prédéfinie. Vous devrez manipuler les chaînes de caractères pour accomplir cette tâche.\n\n\n## Exemples d'entrées/sorties\n\n\n\n* **Entrée:** \"Bonjour\"\n\n* **Sortie:** 3\n\n* **Entrée:** \"Python\"\n\n* **Sortie:** 1\n\n\n## Contraintes\n\n\n\n* La chaîne de caractères est prédéfinie dans le code.\n\n* Les voyelles peuvent être en majuscules ou en minuscules.\n\n\n## Squelette de code\n\n\nComplétez le code suivant pour qu'il fonctionne correctement. Vous devez remplir les parties marquées par # À COMPLÉTER ou # VOTRE CODE ICI.\n\n\n```python\n\ndef compter_voyelles(chaine):\n    # Liste des voyelles\n    voyelles = \"aeiouAEIOU\"\n\n    # À COMPLÉTER: Initialiser un compteur pour les voyelles\n    compteur = 0\n\n    # À COMPLÉTER: Parcourir chaque caractère de la chaîne\n    for caractere in chaine:\n        # À COMPLÉTER: Vérifier si le caractère est une voyelle\n        if caractere in voyelles:\n            # À COMPLÉTER: Incrémenter le compteur si c'est une voyelle\n            compteur += 1\n\n    # À COMPLÉTER: Retourner le compteur\n    return compteur\n\n# Chaîne de caractères prédéfinie\nchaine = \"Bonjour\"\n\n# Tests - NE PAS SÉPARER DU CODE CI-DESSUS\ntry:\n    assert compter_voyelles(chaine) == 3\n    print(\"✅ Test 1 réussi: compter_voyelles('Bonjour') == 3\")\nexcept AssertionError:\n    print(\"❌ Test 1 échoué: compter_voyelles('Bonjour') devrait retourner 3\")\n\n```"
      ]
    },
    {
      "cell_type": "code",
      "metadata": {},
      "source": [
        ""
      ],
      "execution_count": null,
      "outputs": []
    },
    {
      "cell_type": "code",
      "metadata": {},
      "source": [
        ""
      ],
      "execution_count": null,
      "outputs": []
    }
  ],
  "metadata": {
    "kernelspec": {
      "display_name": "Python 3",
      "language": "python",
      "name": "python3"
    },
    "language_info": {
      "codemirror_mode": {
        "name": "ipython",
        "version": 3
      },
      "file_extension": ".py",
      "mimetype": "text/x-python",
      "name": "python",
      "nbconvert_exporter": "python",
      "pygments_lexer": "ipython3",
      "version": "3.8.0"
    }
  },
  "nbformat": 4,
  "nbformat_minor": 5
}