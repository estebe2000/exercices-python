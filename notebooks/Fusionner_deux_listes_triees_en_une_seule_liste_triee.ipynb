{
  "cells": [
    {
      "cell_type": "markdown",
      "metadata": {},
      "source": [
        "# Fusion de Listes Triées"
      ]
    },
    {
      "cell_type": "markdown",
      "metadata": {},
      "source": [
        "\n\n## Description du Problème\n\nDans cet exercice, vous devez écrire une fonction qui fusionne deux listes triées en une seule liste triée. La fusion de deux listes triées est un concept fondamental en informatique, souvent utilisé dans des algorithmes de tri comme le tri fusion (merge sort).\n\n\n\n## Exemples d'Entrées/Sorties\n\n\n    * Entrée: liste1 = [1, 3, 5], liste2 = [2, 4, 6]\nSortie: [1, 2, 3, 4, 5, 6]\n    * Entrée: liste1 = [1, 2, 3], liste2 = []\nSortie: [1, 2, 3]\n    * Entrée: liste1 = [], liste2 = [1, 2, 3]\nSortie: [1, 2, 3]\n\n\n## Contraintes\n\n\n    * Les deux listes d'entrée sont triées en ordre croissant.\n    * Les listes peuvent être de longueurs différentes.\n    * Les listes peuvent être vides.\n\n\n## Squelette de Code\n\n\ndef fusionner_listes(liste1, liste2):\n    # À COMPLÉTER: Initialiser une liste vide pour stocker le résultat\n    # VOTRE CODE ICI\n\n    # À COMPLÉTER: Initialiser deux indices pour parcourir les deux listes\n    # VOTRE CODE ICI\n\n    # À COMPLÉTER: Parcourir les deux listes et ajouter les éléments à la liste résultat\n    # VOTRE CODE ICI\n\n    # À COMPLÉTER: Ajouter les éléments restants de chaque liste à la liste résultat\n    # VOTRE CODE ICI\n\n    # À COMPLÉTER: Retourner la liste résultat\n    pass\n\n# Tests - NE PAS SÉPARER DU CODE CI-DESSUS\ntry:\n    assert fusionner_listes([1, 3, 5], [2, 4, 6]) == [1, 2, 3, 4, 5, 6]\n    print(\"✅ Test 1 réussi: fusionner_listes([1, 3, 5], [2, 4, 6]) == [1, 2, 3, 4, 5, 6]\")\nexcept AssertionError:\n    print(\"❌ Test 1 échoué: fusionner_listes([1, 3, 5], [2, 4, 6]) devrait retourner [1, 2, 3, 4, 5, 6]\")\n\ntry:\n    assert fusionner_listes([1, 2, 3], []) == [1, 2, 3]\n    print(\"✅ Test 2 réussi: fusionner_listes([1, 2, 3], []) == [1, 2, 3]\")\nexcept AssertionError:\n    print(\"❌ Test 2 échoué: fusionner_listes([1, 2, 3], []) devrait retourner [1, 2, 3]\")\n"
      ]
    },
    {
      "cell_type": "code",
      "metadata": {},
      "source": [
        ""
      ],
      "execution_count": null,
      "outputs": []
    },
    {
      "cell_type": "code",
      "metadata": {},
      "source": [
        ""
      ],
      "execution_count": null,
      "outputs": []
    }
  ],
  "metadata": {
    "kernelspec": {
      "display_name": "Python 3",
      "language": "python",
      "name": "python3"
    },
    "language_info": {
      "codemirror_mode": {
        "name": "ipython",
        "version": 3
      },
      "file_extension": ".py",
      "mimetype": "text/x-python",
      "name": "python",
      "nbconvert_exporter": "python",
      "pygments_lexer": "ipython3",
      "version": "3.8.0"
    }
  },
  "nbformat": 4,
  "nbformat_minor": 5
}