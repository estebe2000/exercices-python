{
  "cells": [
    {
      "cell_type": "markdown",
      "metadata": {},
      "source": [
        "# Détecter les mots anagrammes dans une liste de mots"
      ]
    },
    {
      "cell_type": "markdown",
      "metadata": {},
      "source": [
        "<h1>Détection des mots anagrammes</h1>\n\n<h2>Description du problème</h2>\n<p>Dans cet exercice, vous allez écrire un programme qui détecte les mots anagrammes dans une liste de mots. Deux mots sont considérés comme des anagrammes s'ils contiennent les mêmes lettres dans le même nombre, mais dans un ordre différent.</p>\n\n<h2>Exemples d'entrées/sorties</h2>\n<p>Si vous avez la liste de mots suivante : <code>[\"listen\", \"silent\", \"enlist\", \"google\", \"gooegl\", \"rat\", \"tar\", \"art\"]</code>, votre programme devrait identifier les groupes d'anagrammes suivants :</p>\n<ul>\n    <li><code>[\"listen\", \"silent\", \"enlist\"]</code></li>\n    <li><code>[\"google\", \"gooegl\"]</code></li>\n    <li><code>[\"rat\", \"tar\", \"art\"]</code></li>\n</ul>\n\n<h2>Contraintes</h2>\n<ul>\n    <li>Les mots sont en minuscules et ne contiennent que des lettres de l'alphabet.</li>\n    <li>Vous devez utiliser un dictionnaire pour regrouper les anagrammes.</li>\n</ul>\n\n<h2>Squelette de code</h2>\n<p>Voici un squelette de code que vous devez compléter. Le squelette de code et les tests doivent être dans un seul bloc de code.</p>\n\n<pre><code class=\"language-python\">\ndef regrouper_anagrammes(liste_mots):\n    anagrammes = {}\n\n    for mot in liste_mots:\n        # À COMPLÉTER: Créer une clé pour le mot en triant ses lettres\n        cle = # VOTRE CODE ICI\n\n        # À COMPLÉTER: Ajouter le mot au dictionnaire des anagrammes\n        # VOTRE CODE ICI\n\n    # À COMPLÉTER: Retourner les valeurs du dictionnaire (les groupes d'anagrammes)\n    return # VOTRE CODE ICI\n\n# Tests - NE PAS SÉPARER DU CODE CI-DESSUS\ntry:\n    mots = [\"listen\", \"silent\", \"enlist\", \"google\", \"gooegl\", \"rat\", \"tar\", \"art\"]\n    resultat_attendu = [[\"listen\", \"silent\", \"enlist\"], [\"google\", \"gooegl\"], [\"rat\", \"tar\", \"art\"]]\n    resultat = regrouper_anagrammes(mots)\n    assert sorted(resultat) == sorted(resultat_attendu)\n    print('<span class=\"text-success\">✅ Test 1 réussi: regrouper_anagrammes(mots) retourne les groupes d\\'anagrammes corrects</span>')\nexcept AssertionError:\n    print('<span class=\"text-danger\">❌ Test 1 échoué: regrouper_anagrammes(mots) ne retourne pas les groupes d\\'anagrammes corrects</span>')\n\ntry:\n    mots = [\"abc\", \"bca\", \"cab\", \"xyz\", \"zyx\", \"yxz\"]\n    resultat_attendu = [[\"abc\", \"bca\", \"cab\"], [\"xyz\", \"zyx\", \"yxz\"]]\n    resultat = regrouper_anagrammes(mots)\n    assert sorted(resultat) == sorted(resultat_attendu)\n    print('<span class=\"text-success\">✅ Test 2 réussi: regrouper_anagrammes(mots) retourne les groupes d\\'anagrammes corrects</span>')\nexcept AssertionError:\n    print('<span class=\"text-danger\">❌ Test 2 échoué: regrouper_anagrammes(mots) ne retourne pas les groupes d\\'anagrammes corrects</span>')\n</code></pre>"
      ]
    },
    {
      "cell_type": "code",
      "metadata": {},
      "source": [
        ""
      ],
      "execution_count": null,
      "outputs": []
    },
    {
      "cell_type": "code",
      "metadata": {},
      "source": [
        ""
      ],
      "execution_count": null,
      "outputs": []
    }
  ],
  "metadata": {
    "kernelspec": {
      "display_name": "Python 3",
      "language": "python",
      "name": "python3"
    },
    "language_info": {
      "codemirror_mode": {
        "name": "ipython",
        "version": 3
      },
      "file_extension": ".py",
      "mimetype": "text/x-python",
      "name": "python",
      "nbconvert_exporter": "python",
      "pygments_lexer": "ipython3",
      "version": "3.8.0"
    }
  },
  "nbformat": 4,
  "nbformat_minor": 5
}